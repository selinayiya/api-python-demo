{
 "cells": [
  {
   "cell_type": "markdown",
   "id": "a3ccd7cd-3b5c-482c-8dd4-5d58345f6467",
   "metadata": {},
   "source": [
    "# Get Started\n",
    "## Install python package\n",
    "You can install `azpython` from PyPi"
   ]
  },
  {
   "cell_type": "code",
   "id": "7954c02b-7e02-4568-bdc8-de0984ac7f4d",
   "metadata": {
    "ExecuteTime": {
     "end_time": "2025-10-18T11:22:56.939860Z",
     "start_time": "2025-10-18T11:22:56.300532Z"
    }
   },
   "source": "! pip install azpython --upgrade",
   "outputs": [
    {
     "name": "stdout",
     "output_type": "stream",
     "text": [
      "Requirement already satisfied: azpython in /Users/jielina/Selina/AZ/api/api-python-demo (0.1.1)\r\n",
      "Requirement already satisfied: requests in /Users/jielina/Selina/AZ/api/api-python-demo/.venv/lib/python3.9/site-packages (from azpython) (2.32.5)\r\n",
      "Requirement already satisfied: websockets in /Users/jielina/Selina/AZ/api/api-python-demo/.venv/lib/python3.9/site-packages (from azpython) (15.0.1)\r\n",
      "Requirement already satisfied: charset_normalizer<4,>=2 in /Users/jielina/Selina/AZ/api/api-python-demo/.venv/lib/python3.9/site-packages (from requests->azpython) (3.4.4)\r\n",
      "Requirement already satisfied: idna<4,>=2.5 in /Users/jielina/Selina/AZ/api/api-python-demo/.venv/lib/python3.9/site-packages (from requests->azpython) (3.11)\r\n",
      "Requirement already satisfied: urllib3<3,>=1.21.1 in /Users/jielina/Selina/AZ/api/api-python-demo/.venv/lib/python3.9/site-packages (from requests->azpython) (2.5.0)\r\n",
      "Requirement already satisfied: certifi>=2017.4.17 in /Users/jielina/Selina/AZ/api/api-python-demo/.venv/lib/python3.9/site-packages (from requests->azpython) (2025.10.5)\r\n",
      "\r\n",
      "\u001B[1m[\u001B[0m\u001B[34;49mnotice\u001B[0m\u001B[1;39;49m]\u001B[0m\u001B[39;49m A new release of pip is available: \u001B[0m\u001B[31;49m24.3.1\u001B[0m\u001B[39;49m -> \u001B[0m\u001B[32;49m25.2\u001B[0m\r\n",
      "\u001B[1m[\u001B[0m\u001B[34;49mnotice\u001B[0m\u001B[1;39;49m]\u001B[0m\u001B[39;49m To update, run: \u001B[0m\u001B[32;49mpip install --upgrade pip\u001B[0m\r\n"
     ]
    }
   ],
   "execution_count": 1
  },
  {
   "cell_type": "markdown",
   "id": "de7bd7c0-cc16-475e-a7c1-98e5c09dd1b7",
   "metadata": {},
   "source": "## Import Perp API"
  },
  {
   "cell_type": "code",
   "id": "0f4a438a-7057-442c-a169-bab4ed42e66e",
   "metadata": {
    "ExecuteTime": {
     "end_time": "2025-10-18T11:23:02.316085Z",
     "start_time": "2025-10-18T11:23:02.279366Z"
    }
   },
   "source": "from azpython.perp import Perp",
   "outputs": [],
   "execution_count": 2
  },
  {
   "cell_type": "markdown",
   "id": "60dfd544-d14a-435a-9d5e-a4289314e83e",
   "metadata": {},
   "source": [
    "## Fill in your API key and Secret key"
   ]
  },
  {
   "cell_type": "code",
   "id": "26d414a9-43b0-42e1-b6bc-bb9e8ac7e541",
   "metadata": {
    "ExecuteTime": {
     "end_time": "2025-10-18T11:24:31.386723Z",
     "start_time": "2025-10-18T11:24:31.383162Z"
    }
   },
   "source": [
    "api_key = \"f622d835-efc3-4e7f-94e6-952be8fdaf8d\"\n",
    "secret_key = \"72b62c9868999910e312c8340b85390170e233fc\"\n",
    "az = Perp(host=\"https://f-api.myaztests.com\", access_key=api_key, secret_key=secret_key)"
   ],
   "outputs": [],
   "execution_count": 7
  },
  {
   "cell_type": "markdown",
   "id": "c702190e-b0c3-4266-92fc-107eba04dee1",
   "metadata": {},
   "source": [
    "## Get available funds"
   ]
  },
  {
   "cell_type": "code",
   "id": "691e4ead-6c21-4c69-9fae-b0588d276893",
   "metadata": {
    "ExecuteTime": {
     "end_time": "2025-10-18T11:24:32.900174Z",
     "start_time": "2025-10-18T11:24:32.427973Z"
    }
   },
   "source": "print(az.get_account_capital())",
   "outputs": [
    {
     "name": "stdout",
     "output_type": "stream",
     "text": [
      "method: GET url: https://f-api.myaztests.com/az/future/user/v1/balance/list headers: {'validate-signversion': '2', 'validate-appkey': 'f622d835-efc3-4e7f-94e6-952be8fdaf8d', 'validate-timestamp': '1760786672428', 'validate-signature': '81f6a2438b22c1c6249ee932e8c566e5e87502c47ef2e7d9faa2d4d9d7085780', 'validate-algorithms': 'HmacSHA256'} params: None body: None data: {} code: 200\n",
      "(200, {'returnCode': 0, 'msgInfo': 'success', 'error': None, 'result': [{'coin': 'usdt', 'walletBalance': '5000000', 'openOrderMarginFrozen': '3.8215205', 'isolatedMargin': '0', 'crossedMargin': '0', 'availableBalance': '4999996.1784795', 'bonus': '0', 'bonusDisRate': '0.5', 'coupon': '0', 'depositCoupon': None, 'openOrderFeeFrozen': None}]}, None)\n"
     ]
    }
   ],
   "execution_count": 8
  },
  {
   "cell_type": "markdown",
   "id": "812f15a7-700b-47ae-9861-e529392fe530",
   "metadata": {},
   "source": [
    "## Get market data book tickers"
   ]
  },
  {
   "cell_type": "code",
   "id": "809ab242-1956-4705-af10-b7d73e6603b8",
   "metadata": {
    "ExecuteTime": {
     "end_time": "2025-10-18T11:23:22.787595Z",
     "start_time": "2025-10-18T11:23:22.285838Z"
    }
   },
   "source": "print(az.get_book_ticker(symbol='btc_usdt'))",
   "outputs": [
    {
     "name": "stdout",
     "output_type": "stream",
     "text": [
      "method: GET url: https://f-api.myaztests.com/az/future/market/v1/public/q/ticker/book headers: None params: {'symbol': 'btc_usdt'} body: None data: None code: 200\n",
      "(200, {'returnCode': 0, 'msgInfo': 'success', 'error': None, 'result': {'s': 'btc_usdt', 't': 1760786599889, 'ap': '106838.9', 'aq': '8524', 'bp': '106838.8', 'bq': '22587'}}, None)\n"
     ]
    }
   ],
   "execution_count": 5
  },
  {
   "cell_type": "markdown",
   "id": "0e3deb17-a35e-412d-a8f7-9c688bab0c69",
   "metadata": {},
   "source": [
    "## Get market data depth"
   ]
  },
  {
   "cell_type": "code",
   "execution_count": null,
   "id": "706b6483-07c1-48fd-838b-111aa5b3cd9d",
   "metadata": {},
   "outputs": [],
   "source": "print(az.get_depth(symbol='btc_usdt', depth=10))"
  },
  {
   "cell_type": "markdown",
   "id": "83da3f75-96fb-4e88-a27e-77a5405cecae",
   "metadata": {},
   "source": [
    "## Get market data klines"
   ]
  },
  {
   "cell_type": "code",
   "execution_count": null,
   "id": "0b2b9981-15de-4614-988d-de21ae326873",
   "metadata": {},
   "outputs": [],
   "source": "print(az.get_depth(symbol='btc_usdt', depth=10))"
  },
  {
   "cell_type": "markdown",
   "id": "64156f66-66e4-4729-9030-641bafa37d43",
   "metadata": {},
   "source": [
    "## Get symbol information"
   ]
  },
  {
   "cell_type": "code",
   "execution_count": null,
   "id": "1c4a8846-457d-4504-8c7c-ca3492b44e26",
   "metadata": {},
   "outputs": [],
   "source": "print(az.get_market_config(symbol='btc_usdt'))"
  },
  {
   "cell_type": "markdown",
   "id": "ea6211a4-79f9-4cd5-a076-f1a7099e0e70",
   "metadata": {},
   "source": [
    "## Place a limit order"
   ]
  },
  {
   "cell_type": "code",
   "execution_count": null,
   "id": "7265b16a-3f2f-4556-965f-da157f09eb92",
   "metadata": {},
   "outputs": [],
   "source": [
    "res = az.send_order(symbol='btc_usdt', price=10000, amount=1, order_side='BUY', order_type='LIMIT', position_side='LONG')\n",
    "print(res)"
   ]
  },
  {
   "cell_type": "markdown",
   "id": "5422d53e-f7fd-4bc7-9c00-4be1bce6d2bb",
   "metadata": {},
   "source": [
    "## Place a market order"
   ]
  },
  {
   "cell_type": "code",
   "execution_count": null,
   "id": "7eabbeed-a1d1-40ae-8356-2a495227d464",
   "metadata": {},
   "outputs": [],
   "source": [
    "res = az.send_order(symbol='btc_usdt', price=10000, amount=1, order_side='BUY', order_type='MARKET', position_side='LONG')\n",
    "print(res)"
   ]
  },
  {
   "cell_type": "markdown",
   "id": "2efe099c-09ca-4057-af7d-7c31d218b177",
   "metadata": {},
   "source": [
    "## Cancel order"
   ]
  },
  {
   "cell_type": "code",
   "execution_count": null,
   "id": "35f9fc73-1b6d-4553-b075-eca3bbed5f27",
   "metadata": {},
   "outputs": [],
   "source": [
    "res = az.cancel_order(order_id=12345678)\n",
    "print(res)"
   ]
  },
  {
   "cell_type": "markdown",
   "id": "10410934-fc39-49d3-8923-b80cc495fb6b",
   "metadata": {},
   "source": [
    "## Open Long"
   ]
  },
  {
   "cell_type": "code",
   "execution_count": null,
   "id": "6079954e-a7cd-4713-a9d8-e92ab8aa610f",
   "metadata": {},
   "outputs": [],
   "source": [
    "res = az.send_order(symbol='btc_usdt', price=10000, amount=1, order_side='BUY', order_type='LIMIT', position_side='LONG')\n",
    "print(res)"
   ]
  },
  {
   "cell_type": "markdown",
   "id": "02fb2a58-ef8f-4fe1-ac3f-e77cb5a86b64",
   "metadata": {},
   "source": [
    "## Close Long"
   ]
  },
  {
   "cell_type": "code",
   "execution_count": null,
   "id": "0bb2c558-da23-432a-be91-68c17feed488",
   "metadata": {},
   "outputs": [],
   "source": [
    "res = az.send_order(symbol='btc_usdt', price=10000, amount=1, order_side='SELL', order_type='LIMIT', position_side='LONG')\n",
    "print(res)"
   ]
  },
  {
   "cell_type": "markdown",
   "id": "c6af8c4e-546e-44a4-87bf-6e4a39aaf57c",
   "metadata": {},
   "source": [
    "## Open Short"
   ]
  },
  {
   "cell_type": "code",
   "execution_count": null,
   "id": "28b92706-d33f-46b1-b3db-de5083581894",
   "metadata": {},
   "outputs": [],
   "source": [
    "res = az.send_order(symbol='btc_usdt', price=10000, amount=1, order_side='SELL', order_type='LIMIT', position_side='SHORT')\n",
    "print(res)"
   ]
  },
  {
   "cell_type": "markdown",
   "id": "964f7a78-35f1-411e-8713-0fec2c3ea676",
   "metadata": {},
   "source": [
    "## Close Short"
   ]
  },
  {
   "cell_type": "code",
   "execution_count": null,
   "id": "8aeeef59-fb78-4dcc-b555-60a41cd48923",
   "metadata": {},
   "outputs": [],
   "source": [
    "res = az.send_order(symbol='btc_usdt', price=10000, amount=1, order_side='BUY', order_type='LIMIT', position_side='SHORT')\n",
    "print(res)"
   ]
  }
 ],
 "metadata": {
  "kernelspec": {
   "display_name": "Python 3 (ipykernel)",
   "language": "python",
   "name": "python3"
  },
  "language_info": {
   "codemirror_mode": {
    "name": "ipython",
    "version": 3
   },
   "file_extension": ".py",
   "mimetype": "text/x-python",
   "name": "python",
   "nbconvert_exporter": "python",
   "pygments_lexer": "ipython3",
   "version": "3.12.4"
  }
 },
 "nbformat": 4,
 "nbformat_minor": 5
}
