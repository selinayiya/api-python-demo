{
 "cells": [
  {
   "cell_type": "markdown",
   "id": "867386b0-ab5f-41df-a8b5-e9c875bd6db6",
   "metadata": {},
   "source": [
    "# Get Started\n",
    "## Install python package\n",
    "You can install `pyxt` from PyPi"
   ]
  },
  {
   "cell_type": "code",
   "execution_count": null,
   "id": "8e29fe59-5dd6-4d89-8c3f-03f24421b6b2",
   "metadata": {},
   "outputs": [],
   "source": [
    "! pip install pyxt --upgrade"
   ]
  },
  {
   "cell_type": "markdown",
   "id": "e0f76e43-ebd1-4069-82c1-9009e31d403e",
   "metadata": {},
   "source": [
    "## Sign up as an XT user\n",
    "Please refer to [Create account](https://www.xt.com/en/accounts/register)\n",
    "## Create API Key\n",
    "Please refer to [Create API Key](https://www.xt.com/en/accounts/user/api)\n",
    "## Import Spot API"
   ]
  },
  {
   "cell_type": "code",
   "execution_count": 2,
   "id": "64cb25fe-0ba7-4675-afbc-4a4cf7a82101",
   "metadata": {},
   "outputs": [],
   "source": [
    "from pyxt.spot import Spot"
   ]
  },
  {
   "cell_type": "markdown",
   "id": "f5225485-0dd1-4ee7-a159-6f0a46739e1a",
   "metadata": {},
   "source": [
    "## Fill in your API key and Secret key"
   ]
  },
  {
   "cell_type": "code",
   "execution_count": null,
   "id": "ea90e229-ae95-4569-9302-4bbeac945af0",
   "metadata": {},
   "outputs": [],
   "source": [
    "api_key = \"xxxxx\"\n",
    "secret_key = \"xxxxx\"\n",
    "xt = Spot(host=\"https://sapi.xt.com\", access_key=api_key, secret_key=secret_key)"
   ]
  },
  {
   "cell_type": "markdown",
   "id": "727c7775-4e46-4c56-8057-2f07eed7c87b",
   "metadata": {},
   "source": [
    "## Get available funds"
   ]
  },
  {
   "cell_type": "code",
   "execution_count": null,
   "id": "f30b9b8a-10d1-4133-b924-b151ed2391be",
   "metadata": {},
   "outputs": [],
   "source": [
    "print(xt.balance(\"usdt\"))"
   ]
  },
  {
   "cell_type": "markdown",
   "id": "0151d079-38ca-4fe1-bb30-9db94b4bb2a3",
   "metadata": {},
   "source": [
    "## Get market data tickers"
   ]
  },
  {
   "cell_type": "code",
   "execution_count": null,
   "id": "01a4d67c-fad5-4698-89e9-dede8dd9211a",
   "metadata": {},
   "outputs": [],
   "source": [
    "print(xt.get_tickers(symbol='btc_usdt'))"
   ]
  },
  {
   "cell_type": "markdown",
   "id": "dac7038d-466e-4122-bc83-2f791d25d7dc",
   "metadata": {},
   "source": [
    "## Get market data depth"
   ]
  },
  {
   "cell_type": "code",
   "execution_count": null,
   "id": "c7fa7efa-0144-4152-87cb-7697d322d880",
   "metadata": {},
   "outputs": [],
   "source": [
    "print(xt.get_depth(symbol='btc_usdt'))"
   ]
  },
  {
   "cell_type": "markdown",
   "id": "3b0f64fc-5668-424f-b2a7-4d0dd519f1ea",
   "metadata": {},
   "source": [
    "## Get market data book tickers"
   ]
  },
  {
   "cell_type": "code",
   "execution_count": null,
   "id": "5025b286-c5b6-4cf5-ad1b-35708ed72714",
   "metadata": {},
   "outputs": [],
   "source": [
    "print(xt.get_tickers_book(symbol='btc_usdt'))"
   ]
  },
  {
   "cell_type": "markdown",
   "id": "9a6d9167-1b43-4e79-b40c-3d0a55da6140",
   "metadata": {},
   "source": [
    "## Get market data klines"
   ]
  },
  {
   "cell_type": "code",
   "execution_count": null,
   "id": "13d7e832-20da-4fa2-9dfd-e7b154e4d0d1",
   "metadata": {},
   "outputs": [],
   "source": [
    "print(xt.get_kline(symbol='btc_usdt', interval=\"1m\"))"
   ]
  },
  {
   "cell_type": "markdown",
   "id": "03388313-2ac8-410a-8783-84df89cae3c2",
   "metadata": {},
   "source": [
    "## Get symbol information"
   ]
  },
  {
   "cell_type": "code",
   "execution_count": null,
   "id": "545c0429-2e2e-4813-a1c1-caec4ccc3abe",
   "metadata": {},
   "outputs": [],
   "source": [
    "print(xt.get_symbol_config(symbol='btc_usdt'))"
   ]
  },
  {
   "cell_type": "markdown",
   "id": "11fef59b-3c5d-425f-bcd9-712a209072f3",
   "metadata": {},
   "source": [
    "## Place a limit order"
   ]
  },
  {
   "cell_type": "code",
   "execution_count": null,
   "id": "062ee824-bffe-44f7-9f46-8479cbb8cb2b",
   "metadata": {},
   "outputs": [],
   "source": [
    "res = xt.order(symbol='btc_usdt', price=10000, quantity=0.001, side='BUY', type='LIMIT')\n",
    "print(res)"
   ]
  },
  {
   "cell_type": "markdown",
   "id": "d2bc4bde-64c3-438b-8b21-2fc1b5451d94",
   "metadata": {},
   "source": [
    "## Place a market order by quote_qty"
   ]
  },
  {
   "cell_type": "code",
   "execution_count": null,
   "id": "ec94f57d-48f4-44f1-b037-29addb48c029",
   "metadata": {},
   "outputs": [],
   "source": [
    "res = xt.order(symbol='smh_usdt', time_in_force=\"IOC\", quote_qty=2, side='BUY', type='MARKET')\n",
    "print(res)"
   ]
  },
  {
   "cell_type": "markdown",
   "id": "bb5cdf41-2435-497e-b93d-7c0789aec6b3",
   "metadata": {},
   "source": [
    "## Place a market order by quantity"
   ]
  },
  {
   "cell_type": "code",
   "execution_count": null,
   "id": "68fe18c5-8ebc-43af-b6e1-05b780f9a5db",
   "metadata": {},
   "outputs": [],
   "source": [
    "res = xt.order(symbol='smh_usdt', time_in_force=\"IOC\", quantity=2, side='BUY', type='MARKET')\n",
    "print(res)"
   ]
  },
  {
   "cell_type": "markdown",
   "id": "c7c2edec-808b-4720-8092-d27bf419e2fb",
   "metadata": {},
   "source": [
    "## Cancel order"
   ]
  },
  {
   "cell_type": "code",
   "execution_count": null,
   "id": "16bafaf1-dfeb-415b-b7d2-984b0dd243ad",
   "metadata": {},
   "outputs": [],
   "source": [
    "res = xt.cancel_order(order_id=12345678)\n",
    "print(res)"
   ]
  }
 ],
 "metadata": {
  "kernelspec": {
   "display_name": "Python 3 (ipykernel)",
   "language": "python",
   "name": "python3"
  },
  "language_info": {
   "codemirror_mode": {
    "name": "ipython",
    "version": 3
   },
   "file_extension": ".py",
   "mimetype": "text/x-python",
   "name": "python",
   "nbconvert_exporter": "python",
   "pygments_lexer": "ipython3",
   "version": "3.11.5"
  }
 },
 "nbformat": 4,
 "nbformat_minor": 5
}
